{
  "nbformat": 4,
  "nbformat_minor": 0,
  "metadata": {
    "colab": {
      "provenance": [],
      "authorship_tag": "ABX9TyPshLk/KZMrlxvP0bB0pbJq",
      "include_colab_link": true
    },
    "kernelspec": {
      "name": "python3",
      "display_name": "Python 3"
    },
    "language_info": {
      "name": "python"
    }
  },
  "cells": [
    {
      "cell_type": "markdown",
      "metadata": {
        "id": "view-in-github",
        "colab_type": "text"
      },
      "source": [
        "<a href=\"https://colab.research.google.com/github/PabloVD18/Actividades-IA/blob/main/EjercicioPython_1.ipynb\" target=\"_parent\"><img src=\"https://colab.research.google.com/assets/colab-badge.svg\" alt=\"Open In Colab\"/></a>"
      ]
    },
    {
      "cell_type": "code",
      "source": [
        "#Ejercicios en Python 1, Pablo de Jesús Villafaña Domínguez, 2077623, LMV N1"
      ],
      "metadata": {
        "id": "tl70a-qVqIkx"
      },
      "execution_count": null,
      "outputs": []
    },
    {
      "cell_type": "code",
      "source": [
        "name = input(\"Inserte su nombre \")\n",
        "if (name == \"Ana\") or (name == \"Pedro\") or (name == \"Juan\"):\n",
        "  print (\"Acceso Denegado\")\n",
        "else:\n",
        "  print (\"Hola \",name,\" que tengas un excelente día.\")"
      ],
      "metadata": {
        "colab": {
          "base_uri": "https://localhost:8080/"
        },
        "id": "TMZouZbE-0r8",
        "outputId": "e9da66cc-98e5-4fa2-c6df-e4d82c711127"
      },
      "execution_count": 145,
      "outputs": [
        {
          "output_type": "stream",
          "name": "stdout",
          "text": [
            "Inserte su nombre Roberto\n",
            "Hola  Roberto  que tengas un excelente día.\n"
          ]
        }
      ]
    },
    {
      "cell_type": "code",
      "source": [
        "def funcion(lista):\n",
        "    listainvertida= list(reversed(lista))\n",
        "    print(listainvertida)\n",
        "\n",
        "lista =[]\n",
        "n= int(input(\"Ingrese la cantidad de elementos de la lista deseada: \"))\n",
        "for x in range(n):\n",
        "  \n",
        "    lista.append(input(\"Ingrese elemento de la lista: \"))\n",
        "funcion(lista)"
      ],
      "metadata": {
        "colab": {
          "base_uri": "https://localhost:8080/"
        },
        "id": "FXd25W18YG-L",
        "outputId": "37a55ab0-ec10-44a0-9069-28711f0edcb8"
      },
      "execution_count": 146,
      "outputs": [
        {
          "output_type": "stream",
          "name": "stdout",
          "text": [
            "Ingrese la cantidad de elementos de la lista deseada: 4\n",
            "Ingrese elemento de la lista: Pablo\n",
            "Ingrese elemento de la lista: Daniel\n",
            "Ingrese elemento de la lista: Rafael\n",
            "Ingrese elemento de la lista: Alejandro\n",
            "['Alejandro', 'Rafael', 'Daniel', 'Pablo']\n"
          ]
        }
      ]
    },
    {
      "cell_type": "code",
      "source": [
        "n= int(input(\"Cantidad de números a generar de la  serie Fibonacci: \"))\n",
        "x=1\n",
        "y=0\n",
        "z=1\n",
        "while x <= n:\n",
        "  if x%2==1:\n",
        "    print (y)\n",
        "    y=y+z\n",
        "  else:\n",
        "    print (z)\n",
        "    z=z+y\n",
        "  x=x+1\n"
      ],
      "metadata": {
        "colab": {
          "base_uri": "https://localhost:8080/"
        },
        "id": "oOQU0YfoyVen",
        "outputId": "a2776a73-dc29-408c-c0e3-beb8c5cbcf35"
      },
      "execution_count": 148,
      "outputs": [
        {
          "output_type": "stream",
          "name": "stdout",
          "text": [
            "Cantidad de números a generar de la  serie Fibonacci: 25\n",
            "0\n",
            "1\n",
            "1\n",
            "2\n",
            "3\n",
            "5\n",
            "8\n",
            "13\n",
            "21\n",
            "34\n",
            "55\n",
            "89\n",
            "144\n",
            "233\n",
            "377\n",
            "610\n",
            "987\n",
            "1597\n",
            "2584\n",
            "4181\n",
            "6765\n",
            "10946\n",
            "17711\n",
            "28657\n",
            "46368\n"
          ]
        }
      ]
    }
  ]
}